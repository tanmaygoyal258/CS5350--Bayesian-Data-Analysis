{
 "cells": [
  {
   "cell_type": "code",
   "execution_count": 2,
   "metadata": {},
   "outputs": [],
   "source": [
    "import numpy as np\n",
    "import pandas as pd\n",
    "import pymc3 as pm\n",
    "import arviz as az\n",
    "import theano.tensor as tt\n",
    "import scipy as sp\n",
    "from scipy import stats"
   ]
  },
  {
   "cell_type": "code",
   "execution_count": 6,
   "metadata": {},
   "outputs": [
    {
     "data": {
      "text/html": [
       "<div>\n",
       "<style scoped>\n",
       "    .dataframe tbody tr th:only-of-type {\n",
       "        vertical-align: middle;\n",
       "    }\n",
       "\n",
       "    .dataframe tbody tr th {\n",
       "        vertical-align: top;\n",
       "    }\n",
       "\n",
       "    .dataframe thead th {\n",
       "        text-align: right;\n",
       "    }\n",
       "</style>\n",
       "<table border=\"1\" class=\"dataframe\">\n",
       "  <thead>\n",
       "    <tr style=\"text-align: right;\">\n",
       "      <th></th>\n",
       "      <th>0</th>\n",
       "      <th>1</th>\n",
       "      <th>2</th>\n",
       "      <th>3</th>\n",
       "      <th>4</th>\n",
       "    </tr>\n",
       "  </thead>\n",
       "  <tbody>\n",
       "    <tr>\n",
       "      <th>0</th>\n",
       "      <td>0</td>\n",
       "      <td>0</td>\n",
       "      <td>0</td>\n",
       "      <td>0</td>\n",
       "      <td>0</td>\n",
       "    </tr>\n",
       "    <tr>\n",
       "      <th>1</th>\n",
       "      <td>0</td>\n",
       "      <td>0</td>\n",
       "      <td>0</td>\n",
       "      <td>0</td>\n",
       "      <td>0</td>\n",
       "    </tr>\n",
       "    <tr>\n",
       "      <th>2</th>\n",
       "      <td>0</td>\n",
       "      <td>0</td>\n",
       "      <td>0</td>\n",
       "      <td>0</td>\n",
       "      <td>0</td>\n",
       "    </tr>\n",
       "    <tr>\n",
       "      <th>3</th>\n",
       "      <td>0</td>\n",
       "      <td>0</td>\n",
       "      <td>0</td>\n",
       "      <td>0</td>\n",
       "      <td>1</td>\n",
       "    </tr>\n",
       "    <tr>\n",
       "      <th>4</th>\n",
       "      <td>0</td>\n",
       "      <td>0</td>\n",
       "      <td>0</td>\n",
       "      <td>0</td>\n",
       "      <td>1</td>\n",
       "    </tr>\n",
       "    <tr>\n",
       "      <th>...</th>\n",
       "      <td>...</td>\n",
       "      <td>...</td>\n",
       "      <td>...</td>\n",
       "      <td>...</td>\n",
       "      <td>...</td>\n",
       "    </tr>\n",
       "    <tr>\n",
       "      <th>995</th>\n",
       "      <td>1</td>\n",
       "      <td>1</td>\n",
       "      <td>1</td>\n",
       "      <td>1</td>\n",
       "      <td>1</td>\n",
       "    </tr>\n",
       "    <tr>\n",
       "      <th>996</th>\n",
       "      <td>1</td>\n",
       "      <td>1</td>\n",
       "      <td>1</td>\n",
       "      <td>1</td>\n",
       "      <td>1</td>\n",
       "    </tr>\n",
       "    <tr>\n",
       "      <th>997</th>\n",
       "      <td>1</td>\n",
       "      <td>1</td>\n",
       "      <td>1</td>\n",
       "      <td>1</td>\n",
       "      <td>1</td>\n",
       "    </tr>\n",
       "    <tr>\n",
       "      <th>998</th>\n",
       "      <td>1</td>\n",
       "      <td>1</td>\n",
       "      <td>1</td>\n",
       "      <td>1</td>\n",
       "      <td>1</td>\n",
       "    </tr>\n",
       "    <tr>\n",
       "      <th>999</th>\n",
       "      <td>1</td>\n",
       "      <td>1</td>\n",
       "      <td>1</td>\n",
       "      <td>1</td>\n",
       "      <td>1</td>\n",
       "    </tr>\n",
       "  </tbody>\n",
       "</table>\n",
       "<p>1000 rows × 5 columns</p>\n",
       "</div>"
      ],
      "text/plain": [
       "     0  1  2  3  4\n",
       "0    0  0  0  0  0\n",
       "1    0  0  0  0  0\n",
       "2    0  0  0  0  0\n",
       "3    0  0  0  0  1\n",
       "4    0  0  0  0  1\n",
       "..  .. .. .. .. ..\n",
       "995  1  1  1  1  1\n",
       "996  1  1  1  1  1\n",
       "997  1  1  1  1  1\n",
       "998  1  1  1  1  1\n",
       "999  1  1  1  1  1\n",
       "\n",
       "[1000 rows x 5 columns]"
      ]
     },
     "execution_count": 6,
     "metadata": {},
     "output_type": "execute_result"
    }
   ],
   "source": [
    "# getting the data\n",
    "\n",
    "data = pd.read_csv('cleaned_data.csv' , sep = ' ' , header = None)\n",
    "data"
   ]
  },
  {
   "attachments": {},
   "cell_type": "markdown",
   "metadata": {},
   "source": [
    "Rasch Model\n",
    "\n",
    "$$\\Pr(X_{ij}=1) = \\frac{e^{\\alpha_j - \\beta\\times\\theta_i}}{1 + e^{\\alpha_j - \\beta\\times\\theta_i}}$$\n",
    "\n",
    "$\\beta_n$ = ability of student n\n",
    "\n",
    "$\\delta_i$ = difficulty of item i\n",
    "\n",
    "https://towardsdatascience.com/a-bayesian-approach-to-rasch-models-item-response-theory-cc08805cbb37"
   ]
  },
  {
   "cell_type": "code",
   "execution_count": 223,
   "metadata": {},
   "outputs": [],
   "source": [
    "# define some constants according to the constraints in the question\n",
    "N = 1000\n",
    "Q = 5\n",
    "sigma_alpha = 100\n",
    "mean_alpha = 0\n",
    "mean_beta = 0\n",
    "sigma_beta = 1000\n",
    "mean_theta = 0\n",
    "sigma_theta = 1"
   ]
  },
  {
   "attachments": {},
   "cell_type": "markdown",
   "metadata": {},
   "source": [
    "On doing some simple mathematics, we get the likelihood to be:\n",
    "\n",
    "$\\mathcal{L}(x | \\{\\alpha_j\\}_{j=1}^Q , \\{\\theta_i\\}_{i=1}^N , \\beta) = \\frac{\\exp\\left(\\beta\\sum\\limits_{i=1}^N \\theta_i r_i - \\sum\\limits_{j=1}^Q\\alpha_j s_j\\right)}{\\prod\\limits_{i=1}^Q\\prod\\limits_{j=1}^N 1 + \\exp\\left({\\beta\\theta_i - \\alpha_j}\\right)}$\n",
    "\n",
    "where $r_i$ is the score of the $i^{th}$ student and $s_j$ is the score achieved on the $j^{th}$ question.\n",
    "\n",
    "\n",
    "We also have our priors (all the means are zero):\n",
    "\n",
    "$\\pi(\\alpha_j) = \\frac{1}{\\sqrt{2\\pi\\sigma_\\alpha^2}} \\exp\\left({-\\frac{\\alpha_j^2}{2\\sigma_\\alpha^2}}\\right)$\n",
    "\n",
    "$\\pi(\\theta_i) = \\frac{1}{\\sqrt{2\\pi\\sigma_\\theta^2}} \\exp\\left({-\\frac{\\theta_i^2}{2\\sigma_\\theta^2}}\\right)$\n",
    "\n",
    "$\\pi(\\beta) = \\frac{1}{\\sqrt{2\\pi\\sigma_\\beta^2}} \\exp\\left({-\\frac{\\beta^2}{2\\sigma_\\beta^2}}\\right) \\times \\mathbf{1}\\left(\\beta \\geq 0\\right)$\n",
    "\n",
    "Thus, the posterior distribution is given by:\n",
    "\n",
    "$\\pi(\\{\\alpha_j\\}_{j=1}^Q , \\{\\theta_i\\}_{i=1}^N , \\beta | x) = \\mathcal{L}(x | \\{\\alpha_j\\}_{j=1}^Q , \\{\\theta_i\\}_{i=1}^N , \\beta) \\times \\prod\\limits_{j=1}^Q\\pi(\\alpha_j) \\times \\prod\\limits_{i=1}^N\\pi(\\theta_i) \\times \\pi(\\beta)$\n",
    "\n",
    "For more details about the mathematics, please refer to the paper."
   ]
  },
  {
   "attachments": {},
   "cell_type": "markdown",
   "metadata": {},
   "source": [
    "Since we wish to sample for $\\{\\alpha_j\\}_{j=1}^Q , \\{\\theta_i\\}_{i=1}^N , \\beta$ , we would have to obtain the  conditional distributions of $\\alpha_j , \\theta_i , \\beta$.\n",
    "\n",
    "$\\pi(\\alpha_j | \\alpha_1 , \\ldots , \\alpha_{j-1} , \\alpha_{j+1} , \\ldots, \\alpha_Q , \\{\\theta_i\\}_{i=1}^N , \\beta, x) = \\frac{\\exp\\left(-\\alpha_j s_j - \\frac{\\alpha_j^2 }{2\\sigma_\\alpha^2}\\right)}{\\prod\\limits_{i=1}^Q\\prod\\limits_{j=1}^N 1 + \\exp\\left({\\beta\\theta_i - \\alpha_j}\\right)}$\n",
    "\n",
    "$\\pi(\\beta | \\{\\alpha_j\\}_{j=1}^Q , \\{\\theta_i\\}_{i=1}^N , x) = \\frac{\\exp\\left(\\beta\\sum\\limits_{i=1}^N \\theta_i r_i  - \\frac{\\beta^2 }{2\\sigma_\\beta^2}\\right)}{\\prod\\limits_{i=1}^Q\\prod\\limits_{j=1}^N 1 + \\exp\\left({\\beta\\theta_i - \\alpha_j}\\right)}$\n",
    "\n",
    "$\\pi(\\theta_i | \\theta_1 , \\ldots , \\theta_{i-1} , \\theta_{i+1} , \\ldots, \\theta_N , \\{\\alpha_j\\}_{j=1}^Q , \\beta, x) = \\frac{\\exp\\left(\\beta\\theta_i r_i  - \\frac{\\theta_i^2 }{2\\sigma_\\theta^2}\\right)}{\\prod\\limits_{i=1}^Q\\prod\\limits_{j=1}^N 1 + \\exp\\left({\\beta\\theta_i - \\alpha_j}\\right)}$"
   ]
  },
  {
   "cell_type": "code",
   "execution_count": 7,
   "metadata": {},
   "outputs": [],
   "source": [
    "score_per_question = np.sum(data, axis = 0)\n",
    "score_per_student = np.sum(data, axis = 1)"
   ]
  },
  {
   "cell_type": "code",
   "execution_count": 145,
   "metadata": {},
   "outputs": [],
   "source": [
    "def initialize_chain():\n",
    "    alpha = np.random.normal(mean_alpha , sigma_alpha , size = Q)\n",
    "    alpha -= alpha.mean()\n",
    "\n",
    "    # halfFlat is a uniform distribution between 0 and infinity\n",
    "    # beta = 1\n",
    "\n",
    "    beta = np.random.normal(mean_beta , sigma_beta) * (beta > 0 and beta < sigma_beta)\n",
    "\n",
    "    theta = np.random.normal(mean_theta , sigma_theta , size = N)\n",
    "    return alpha, beta, theta"
   ]
  },
  {
   "cell_type": "code",
   "execution_count": 222,
   "metadata": {},
   "outputs": [],
   "source": [
    "def mcmc_sampler(num_chains , num_steps, burn_in):\n",
    "    eps = 1e-6\n",
    "    alpha_samples = []\n",
    "    beta_samples = []\n",
    "    theta_samples = []\n",
    "\n",
    "    for chain_num in range(num_chains):\n",
    "        alpha , beta , theta = initialize_chain()\n",
    "\n",
    "        alpha_chain = []\n",
    "        beta_chain = []\n",
    "        theta_chain = []\n",
    "\n",
    "        # we assume proposal distribution to be symmetric\n",
    "        for step in range(num_steps):\n",
    "            alpha_ratio = alpha_ratio_num - alpha_ratio_den\n",
    "            print('(Chain: {}, Step: {}/{})=> Old Likelihood: {:.4f}, New Likelihood: {:.4f} , Alpha = {:.4f}'.format(chain_num+1, step+1, num_steps, likelihood, likelihood_new , alpha_ratio), end='\\r')\n",
    "\n",
    "            u = np.random.rand()\n",
    "            if u < min(1 , alpha_ratio):\n",
    "                if step > burn_in-1:\n",
    "                    alpha_chain.append(alpha_new)\n",
    "                    beta_chain.append(beta_new)\n",
    "                    theta_chain.append(theta_new)\n",
    "                \n",
    "                alpha = alpha_new\n",
    "                beta = beta_new\n",
    "                theta = theta_new\n",
    "\n",
    "            else:\n",
    "                alpha_chain.append(alpha)\n",
    "                beta_chain.append(beta)\n",
    "                theta_chain.append(theta)\n",
    "\n",
    "        alpha_samples.append(alpha_chain)\n",
    "        beta_samples.append(beta_chain)\n",
    "        theta_samples.append(theta_chain)\n",
    "        print('\\n')\n",
    "    return alpha_samples , beta_samples , theta_samples\n"
   ]
  },
  {
   "cell_type": "code",
   "execution_count": 219,
   "metadata": {},
   "outputs": [
    {
     "name": "stdout",
     "output_type": "stream",
     "text": [
      "(Chain: 1, Step: 50/50)=> Old Likelihood: -107.1321, New Likelihood: -106.4113 , Alpha = 0.72080\n",
      "\n"
     ]
    }
   ],
   "source": [
    "s_alpha, s_beta, s_theta = mcmc_sampler(1, 50, 5)"
   ]
  },
  {
   "cell_type": "code",
   "execution_count": 220,
   "metadata": {},
   "outputs": [
    {
     "name": "stdout",
     "output_type": "stream",
     "text": [
      "[ 36.33212485 -43.2552371  -73.07147787 -52.43069594 101.58690643]\n"
     ]
    }
   ],
   "source": [
    "means = np.zeros(5)\n",
    "for i in range(len(s_alpha)):\n",
    "    means+=np.mean(s_alpha[i], axis = 0)\n",
    "print(means/len(s_alpha))"
   ]
  },
  {
   "cell_type": "code",
   "execution_count": 221,
   "metadata": {},
   "outputs": [
    {
     "data": {
      "text/plain": [
       "0.8461716373604699"
      ]
     },
     "execution_count": 221,
     "metadata": {},
     "output_type": "execute_result"
    }
   ],
   "source": [
    "np.array(s_beta).mean()"
   ]
  }
 ],
 "metadata": {
  "kernelspec": {
   "display_name": "test_env",
   "language": "python",
   "name": "python3"
  },
  "language_info": {
   "codemirror_mode": {
    "name": "ipython",
    "version": 3
   },
   "file_extension": ".py",
   "mimetype": "text/x-python",
   "name": "python",
   "nbconvert_exporter": "python",
   "pygments_lexer": "ipython3",
   "version": "3.9.13"
  },
  "orig_nbformat": 4
 },
 "nbformat": 4,
 "nbformat_minor": 2
}
