{
 "cells": [
  {
   "cell_type": "code",
   "execution_count": 21,
   "metadata": {},
   "outputs": [],
   "source": [
    "import numpy as np\n",
    "import pandas as pd\n",
    "import pymc3 as pm\n",
    "import arviz as az\n",
    "import theano.tensor as tt\n",
    "import scipy as sp\n",
    "from scipy import stats"
   ]
  },
  {
   "cell_type": "code",
   "execution_count": 82,
   "metadata": {},
   "outputs": [],
   "source": [
    "data = []\n",
    "with open('data.txt' , 'r') as f:\n",
    "    for line in f.readlines():\n",
    "        data.append(line.strip('\\n'))"
   ]
  },
  {
   "cell_type": "code",
   "execution_count": 83,
   "metadata": {},
   "outputs": [
    {
     "name": "stdout",
     "output_type": "stream",
     "text": [
      "['## Data', 'lsat = Dict{Symbol, Any}(', '  :cumulative Frequency =>', '    [3, 9, 11, 22, 23, 24, 27, 31, 32, 40, 40, 56, 56, 59, 61, 76, 86, 115, 129,', '     210, 213, 241, 256, 336, 352, 408, 429, 602, 613, 674, 702, 1000],', '  :response =>', '    [0 0 0 0 0', '     0 0 0 0 1', '     0 0 0 1 0', '     0 0 0 1 1', '     0 0 1 0 0', '     0 0 1 0 1', '     0 0 1 1 0', '     0 0 1 1 1', '     0 1 0 0 0', '     0 1 0 0 1', '     0 1 0 1 0', '     0 1 0 1 1', '     0 1 1 0 0', '     0 1 1 0 1', '     0 1 1 1 0', '     0 1 1 1 1', '     1 0 0 0 0', '     1 0 0 0 1', '     1 0 0 1 0', '     1 0 0 1 1', '     1 0 1 0 0', '     1 0 1 0 1', '     1 0 1 1 0', '     1 0 1 1 1', '     1 1 0 0 0', '     1 1 0 0 1', '     1 1 0 1 0', '     1 1 0 1 1', '     1 1 1 0 0', '     1 1 1 0 1', '     1 1 1 1 0', '     1 1 1 1 1],', '  :N => 1000', ')']\n"
     ]
    }
   ],
   "source": [
    "print(data)"
   ]
  },
  {
   "cell_type": "code",
   "execution_count": 87,
   "metadata": {},
   "outputs": [
    {
     "data": {
      "text/plain": [
       "array([[0, 0, 0, 0, 0],\n",
       "       [0, 0, 0, 0, 1],\n",
       "       [0, 0, 0, 1, 0],\n",
       "       [0, 0, 0, 1, 1],\n",
       "       [0, 0, 1, 0, 0],\n",
       "       [0, 0, 1, 0, 1],\n",
       "       [0, 0, 1, 1, 0],\n",
       "       [0, 0, 1, 1, 1],\n",
       "       [0, 1, 0, 0, 0],\n",
       "       [0, 1, 0, 0, 1],\n",
       "       [0, 1, 0, 1, 0],\n",
       "       [0, 1, 0, 1, 1],\n",
       "       [0, 1, 1, 0, 0],\n",
       "       [0, 1, 1, 0, 1],\n",
       "       [0, 1, 1, 1, 0],\n",
       "       [0, 1, 1, 1, 1],\n",
       "       [1, 0, 0, 0, 0],\n",
       "       [1, 0, 0, 0, 1],\n",
       "       [1, 0, 0, 1, 0],\n",
       "       [1, 0, 0, 1, 1],\n",
       "       [1, 0, 1, 0, 0],\n",
       "       [1, 0, 1, 0, 1],\n",
       "       [1, 0, 1, 1, 0],\n",
       "       [1, 0, 1, 1, 1],\n",
       "       [1, 1, 0, 0, 0],\n",
       "       [1, 1, 0, 0, 1],\n",
       "       [1, 1, 0, 1, 0],\n",
       "       [1, 1, 0, 1, 1],\n",
       "       [1, 1, 1, 0, 0],\n",
       "       [1, 1, 1, 0, 1],\n",
       "       [1, 1, 1, 1, 0],\n",
       "       [1, 1, 1, 1, 1]])"
      ]
     },
     "execution_count": 87,
     "metadata": {},
     "output_type": "execute_result"
    }
   ],
   "source": [
    "choices = []\n",
    "for student in data[6 : len(data) - 2]:\n",
    "    choice = []\n",
    "    student_split = student.split(' ')\n",
    "    for c in student_split[-5 : ]:\n",
    "        if '[' in c:\n",
    "            choice.append(int(c[1]))\n",
    "        elif ']' in c:\n",
    "            choice.append(int(c[0]))\n",
    "        else:\n",
    "            choice.append(int(c))\n",
    "    choices.append(np.array(choice))\n",
    "choices = np.array(choices)   \n",
    "choices   "
   ]
  },
  {
   "cell_type": "code",
   "execution_count": 88,
   "metadata": {},
   "outputs": [
    {
     "data": {
      "text/plain": [
       "(32, 5)"
      ]
     },
     "execution_count": 88,
     "metadata": {},
     "output_type": "execute_result"
    }
   ],
   "source": [
    "choices.shape"
   ]
  },
  {
   "cell_type": "code",
   "execution_count": 90,
   "metadata": {},
   "outputs": [
    {
     "data": {
      "text/plain": [
       "array([   3,    9,   11,   22,   23,   24,   27,   31,   32,   40,   40,\n",
       "         56,   56,   59,   61,   76,   86,  115,  129,  210,  213,  241,\n",
       "        256,  336,  352,  408,  429,  602,  613,  674,  702, 1000])"
      ]
     },
     "execution_count": 90,
     "metadata": {},
     "output_type": "execute_result"
    }
   ],
   "source": [
    "cumulative = []\n",
    "\n",
    "cum1 = data[3].strip(' ')\n",
    "cum2 = data[4].strip(' ')[:-1]\n",
    "cum1 = cum1.strip('[')\n",
    "cum2 = cum2.strip(']')\n",
    "cum = cum1 + cum2\n",
    "cum_split = cum.split(',')\n",
    "for c in cum_split:\n",
    "    cumulative.append(int(c))\n",
    "\n",
    "cumulative = np.array(cumulative)\n",
    "cumulative"
   ]
  },
  {
   "cell_type": "code",
   "execution_count": 91,
   "metadata": {},
   "outputs": [
    {
     "data": {
      "text/plain": [
       "array([  3,   6,   2,  11,   1,   1,   3,   4,   1,   8,   0,  16,   0,\n",
       "         3,   2,  15,  10,  29,  14,  81,   3,  28,  15,  80,  16,  56,\n",
       "        21, 173,  11,  61,  28, 298])"
      ]
     },
     "execution_count": 91,
     "metadata": {},
     "output_type": "execute_result"
    }
   ],
   "source": [
    "dis_freq = []\n",
    "dis_freq.append(cumulative[0])\n",
    "for i in range(len(cumulative) - 1):\n",
    "    dis_freq.append(cumulative[i + 1] - cumulative[i])\n",
    "\n",
    "dis_freq = np.array(dis_freq)\n",
    "dis_freq"
   ]
  },
  {
   "attachments": {},
   "cell_type": "markdown",
   "metadata": {},
   "source": [
    "Rasch Model\n",
    "\n",
    "$$\\Pr(X_{ij}=1) = \\frac{e^{\\alpha_j - \\beta\\times\\theta_i}}{1 + e^{\\alpha_j - \\beta\\times\\theta_i}}$$\n",
    "\n",
    "$\\beta_n$ = ability of student n\n",
    "\n",
    "$\\delta_i$ = difficulty of item i\n",
    "\n",
    "https://towardsdatascience.com/a-bayesian-approach-to-rasch-models-item-response-theory-cc08805cbb37"
   ]
  },
  {
   "cell_type": "code",
   "execution_count": 114,
   "metadata": {},
   "outputs": [],
   "source": [
    "data_matrix = []\n",
    "\n",
    "for idx in range(len(dis_freq)):\n",
    "    for i in range(dis_freq[idx]):\n",
    "        data_matrix.append(choices[idx])\n",
    "\n",
    "data_matrix  = np.array(data_matrix)"
   ]
  },
  {
   "cell_type": "code",
   "execution_count": 115,
   "metadata": {},
   "outputs": [
    {
     "data": {
      "text/plain": [
       "array([[0, 0, 0, 0, 0],\n",
       "       [0, 0, 0, 0, 0],\n",
       "       [0, 0, 0, 0, 0],\n",
       "       ...,\n",
       "       [1, 1, 1, 1, 1],\n",
       "       [1, 1, 1, 1, 1],\n",
       "       [1, 1, 1, 1, 1]])"
      ]
     },
     "execution_count": 115,
     "metadata": {},
     "output_type": "execute_result"
    }
   ],
   "source": [
    "data_matrix"
   ]
  },
  {
   "cell_type": "code",
   "execution_count": 177,
   "metadata": {},
   "outputs": [],
   "source": [
    "alpha_initial = np.random.normal(0 , 100 , size = 5)\n",
    "alpha_initial -= alpha_initial.mean()\n",
    "\n",
    "# halfFlat is a uniform distribution between 0 and infinity\n",
    "beta_initial = 90\n",
    "theta_initial = np.random.normal( 0 , 1 , size = 1000)\n"
   ]
  },
  {
   "cell_type": "code",
   "execution_count": null,
   "metadata": {},
   "outputs": [],
   "source": []
  },
  {
   "cell_type": "code",
   "execution_count": 112,
   "metadata": {},
   "outputs": [],
   "source": [
    "proposal_alpha = lambda x: np.random.multivariate_normal(x , np.eye(x.shape[0]))\n",
    "proposal_beta = lambda x: np.random.normal(x , 0.1)\n",
    "proposal_theta = lambda x: np.random.multivariate_normal(x , np.eye(x.shape[0]))"
   ]
  },
  {
   "cell_type": "code",
   "execution_count": 178,
   "metadata": {},
   "outputs": [
    {
     "name": "stdout",
     "output_type": "stream",
     "text": [
      "-76.24752606670523 90 2.365766352405828\n"
     ]
    }
   ],
   "source": [
    "print(alpha_initial[0], beta_initial, theta_initial[0])"
   ]
  },
  {
   "cell_type": "code",
   "execution_count": 179,
   "metadata": {},
   "outputs": [
    {
     "data": {
      "text/plain": [
       "1.0"
      ]
     },
     "execution_count": 179,
     "metadata": {},
     "output_type": "execute_result"
    }
   ],
   "source": [
    "idx = 0\n",
    "(np.exp(-alpha_initial[idx] + beta_initial * theta_initial[0]) / (1 + np.exp(-alpha_initial[idx] + beta_initial * theta_initial[0])))"
   ]
  },
  {
   "cell_type": "code",
   "execution_count": 251,
   "metadata": {},
   "outputs": [],
   "source": [
    "def initialize_chain():\n",
    "    alpha = np.random.normal(0 , 100 , size = 5)\n",
    "    alpha -= alpha.mean()\n",
    "\n",
    "    # halfFlat is a uniform distribution between 0 and infinity\n",
    "    beta = 1\n",
    "    theta = np.random.normal( 0 , 1 , size = 1000)\n",
    "    return alpha, beta, theta"
   ]
  },
  {
   "cell_type": "code",
   "execution_count": 288,
   "metadata": {},
   "outputs": [],
   "source": [
    "def log_likelihood(data_matrix , alpha , beta , theta):\n",
    "    eps = 1e-8\n",
    "    sum = 0\n",
    "    for i in range(data_matrix.shape[0]):\n",
    "        for j in range(data_matrix.shape[1]):\n",
    "\n",
    "            rasch_prob = np.exp(-alpha[j] + beta * theta[i] + eps) / (1 + np.exp(-alpha[j] + beta * theta[i] + eps))\n",
    "            if data_matrix[i][j] == 0:\n",
    "                if rasch_prob == 1:\n",
    "                    sum += 0\n",
    "                else:\n",
    "                    sum += np.log(1 - rasch_prob)\n",
    "            else:\n",
    "                if rasch_prob == 0:\n",
    "                    sum += 0\n",
    "                else:\n",
    "                    sum += np.log(rasch_prob)\n",
    "            \n",
    "    return sum"
   ]
  },
  {
   "cell_type": "code",
   "execution_count": 309,
   "metadata": {},
   "outputs": [
    {
     "data": {
      "text/plain": [
       "-26822.360965240172"
      ]
     },
     "execution_count": 309,
     "metadata": {},
     "output_type": "execute_result"
    }
   ],
   "source": [
    "a, b, t = initialize_chain()\n",
    "log_likelihood(data_matrix , a, b, t)"
   ]
  },
  {
   "cell_type": "code",
   "execution_count": 329,
   "metadata": {},
   "outputs": [],
   "source": [
    "def mcmc_sampler(num_chains , num_steps, burn_in):\n",
    "    eps = 1e-6\n",
    "    alpha_samples = []\n",
    "    beta_samples = []\n",
    "    theta_samples = []\n",
    "\n",
    "    for chain_num in range(num_chains):\n",
    "        alpha , beta , theta = initialize_chain()\n",
    "\n",
    "        alpha_chain = []\n",
    "        beta_chain = []\n",
    "        theta_chain = []\n",
    "\n",
    "        # we assume proposal distribution to be symmetric\n",
    "        for step in range(num_steps):\n",
    "            \n",
    "            p_alpha = np.array([sp.stats.norm(0 , 100).pdf(alpha[i]) for i in range(alpha.size)])\n",
    "            p_alpha = np.product(p_alpha)\n",
    "\n",
    "            p_beta = sp.stats.norm(0 , 100).pdf(beta)\n",
    "\n",
    "            p_theta = np.array([sp.stats.norm(0 , 1).pdf(theta[i]) for i in range(theta.size)])\n",
    "            p_theta = np.product(p_theta)\n",
    "\n",
    "\n",
    "            proposal_alpha = lambda x: np.random.multivariate_normal(x , np.eye(x.shape[0]))\n",
    "            proposal_beta = lambda x: np.random.normal(x , 0.1)\n",
    "            proposal_theta = lambda x: np.random.multivariate_normal(x , np.eye(x.shape[0]))\n",
    "            \n",
    "            alpha_new = proposal_alpha(alpha)\n",
    "            beta_new = proposal_beta(beta)\n",
    "            theta_new = proposal_theta(theta)\n",
    "\n",
    "            p_alpha_new = np.array([sp.stats.norm(0 , 100).pdf(alpha_new[i]) for i in range(alpha_new.size)])\n",
    "            p_alpha_new = np.product(p_alpha_new)\n",
    "\n",
    "            p_beta_new = sp.stats.norm(0 , 100).pdf(beta_new)\n",
    "\n",
    "            p_theta_new = np.array([sp.stats.norm(0 , 1).pdf(theta_new[i]) for i in range(theta_new.size)])\n",
    "            p_theta_new = np.product(p_theta_new)\n",
    "\n",
    "            likelihood = log_likelihood(data_matrix , alpha , beta , theta)\n",
    "            likelihood_new = log_likelihood(data_matrix , alpha_new , beta_new , theta_new)\n",
    "\n",
    "            print('(Chain: {}, Step: {}/{})=> Old Likelihood: {:.4f}, New Likelihood: {:.4f}'.format(chain_num+1, step+1, num_steps, likelihood, likelihood_new), end='\\r')\n",
    "            alpha_ratio = likelihood_new - likelihood + np.log(p_alpha_new + eps) - np.log(p_alpha + eps) \\\n",
    "                        + np.log(p_beta_new + eps) - np.log(p_beta + eps) + np.log(p_theta_new + eps) - np.log(p_theta + eps)\n",
    "\n",
    "            u = np.random.rand()\n",
    "            if u < min(1 , alpha_ratio):\n",
    "                if step > burn_in-1:\n",
    "                    alpha_chain.append(alpha_new)\n",
    "                    beta_chain.append(beta_new)\n",
    "                    theta_chain.append(theta_new)\n",
    "                \n",
    "                alpha = alpha_new\n",
    "                beta = beta_new\n",
    "                theta = theta_new\n",
    "\n",
    "            else:\n",
    "                alpha_chain.append(alpha)\n",
    "                beta_chain.append(beta)\n",
    "                theta_chain.append(theta)\n",
    "\n",
    "        alpha_samples.append(alpha_chain)\n",
    "        beta_samples.append(beta_chain)\n",
    "        theta_samples.append(theta_chain)\n",
    "        print('\\n')\n",
    "    return alpha_samples , beta_samples , theta_samples\n"
   ]
  },
  {
   "cell_type": "code",
   "execution_count": 324,
   "metadata": {},
   "outputs": [
    {
     "name": "stdout",
     "output_type": "stream",
     "text": [
      "(Step: 25/25)=> Old Likelihood: -4632.0698, New Likelihood: -6085.296368\r"
     ]
    }
   ],
   "source": [
    "s_alpha, s_beta, s_theta = mcmc_sampler(4, 25, 5)"
   ]
  },
  {
   "cell_type": "code",
   "execution_count": 328,
   "metadata": {},
   "outputs": [
    {
     "name": "stdout",
     "output_type": "stream",
     "text": [
      "[[-2.22420446 -1.95411178  0.92334153 -3.64536679 -0.2444831 ]]\n"
     ]
    }
   ],
   "source": [
    "means = np.zeros((1, 5))\n",
    "for i in range(len(s_alpha)):\n",
    "    means+=np.mean(s_alpha[i], axis = 0)\n",
    "print(means/len(s_alpha))"
   ]
  }
 ],
 "metadata": {
  "kernelspec": {
   "display_name": "test_env",
   "language": "python",
   "name": "python3"
  },
  "language_info": {
   "codemirror_mode": {
    "name": "ipython",
    "version": 3
   },
   "file_extension": ".py",
   "mimetype": "text/x-python",
   "name": "python",
   "nbconvert_exporter": "python",
   "pygments_lexer": "ipython3",
   "version": "3.8.5"
  },
  "orig_nbformat": 4
 },
 "nbformat": 4,
 "nbformat_minor": 2
}
